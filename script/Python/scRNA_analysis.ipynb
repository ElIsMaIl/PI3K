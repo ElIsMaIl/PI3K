{
 "cells": [
  {
   "cell_type": "code",
   "execution_count": 1,
   "metadata": {
    "collapsed": true
   },
   "outputs": [],
   "source": [
    "import scanpy as sc\n",
    "import numpy as np\n",
    "import scipy as sp\n",
    "import pandas as pd\n",
    "import matplotlib.pyplot as plt\n",
    "from matplotlib import rcParams\n",
    "from matplotlib import colors\n",
    "import seaborn as sb\n",
    "from gprofiler import gprofiler\n",
    "\n",
    "import rpy2.rinterface_lib.callbacks\n",
    "import logging\n",
    "\n",
    "from rpy2.robjects import pandas2ri\n",
    "import anndata2ri"
   ]
  },
  {
   "cell_type": "code",
   "execution_count": 2,
   "outputs": [],
   "source": [
    "# Ignore R warning messages\n",
    "#Note: this can be commented out to get more verbose R output\n",
    "rpy2.rinterface_lib.callbacks.logger.setLevel(logging.ERROR)\n",
    "\n",
    "# Automatically convert rpy2 outputs to pandas dataframes\n",
    "pandas2ri.activate()\n",
    "anndata2ri.activate()\n",
    "%load_ext rpy2.ipython"
   ],
   "metadata": {
    "collapsed": false,
    "pycharm": {
     "name": "#%%\n"
    }
   }
  },
  {
   "cell_type": "code",
   "execution_count": 3,
   "outputs": [],
   "source": [
    "%%R\n",
    "library(scran)\n",
    "library(RColorBrewer)\n",
    "library(slingshot)\n",
    "library(monocle)\n",
    "library(gam)\n",
    "library(clusterExperiment)\n",
    "library(ggplot2)\n",
    "library(plyr)\n",
    "library(MAST)\n"
   ],
   "metadata": {
    "collapsed": false,
    "pycharm": {
     "name": "#%%\n"
    }
   }
  },
  {
   "cell_type": "code",
   "execution_count": 4,
   "outputs": [],
   "source": [
    "# Set up data loading\n",
    "#Data files\n",
    "\n",
    "sample_strings = ['1820', '1822']\n",
    "file_base = '/home/elismail/Dokumente/scRNA-Data/scRNA_Tutorial/'\n",
    "exp_string = '_Expression_'\n",
    "data_file_end = 'Data.st'\n"
   ],
   "metadata": {
    "collapsed": false,
    "pycharm": {
     "name": "#%%\n"
    }
   }
  },
  {
   "cell_type": "code",
   "execution_count": 5,
   "outputs": [],
   "source": [
    "# First data set load\n",
    "#sample = sample_strings.pop(0)\n",
    "#data_file = file_base+sample+exp_string+data_file_end\n",
    "\n",
    "#Load data\n",
    "#adata = pd.read_csv(data_file, sep='\\t')\n",
    "\n"
   ],
   "metadata": {
    "collapsed": false,
    "pycharm": {
     "name": "#%%\n"
    }
   }
  },
  {
   "cell_type": "code",
   "execution_count": 5,
   "outputs": [
    {
     "name": "stdout",
     "output_type": "stream",
     "text": [
      "          Cell_Index     Gene  RSEC_Reads  Raw_Molecules  \\\n",
      "0             773200   A4GALT           1              1   \n",
      "1             773200     AAAS          19              2   \n",
      "2             773200    AAGAB          42              4   \n",
      "3             773200     AAMP         101             10   \n",
      "4             773200     AAR2          20              2   \n",
      "...              ...      ...         ...            ...   \n",
      "13231641      504619     UTP4           1              1   \n",
      "13231642      504619    YIPF4           1              1   \n",
      "13231643      504619   ZBTB22           1              1   \n",
      "13231644      504619  ZMYND19           1              1   \n",
      "13231645      504619    ZNRF3           1              1   \n",
      "\n",
      "          RSEC_Adjusted_Molecules  \n",
      "0                               1  \n",
      "1                               2  \n",
      "2                               3  \n",
      "3                               8  \n",
      "4                               1  \n",
      "...                           ...  \n",
      "13231641                        1  \n",
      "13231642                        1  \n",
      "13231643                        1  \n",
      "13231644                        1  \n",
      "13231645                        1  \n",
      "\n",
      "[23957448 rows x 5 columns]\n"
     ]
    },
    {
     "data": {
      "text/plain": "(23957448, 5)"
     },
     "execution_count": 5,
     "metadata": {},
     "output_type": "execute_result"
    }
   ],
   "source": [
    "#Load the rest of the data\n",
    "#Parse Filenames\n",
    "data_file = []\n",
    "adata = pd.DataFrame()\n",
    "for i in range (len(sample_strings)):\n",
    "    sample = sample_strings[i]\n",
    "    path =\"\".join([file_base,sample,exp_string,data_file_end])\n",
    "    adata = adata.append(pd.read_csv(path, sep='\\t'))\n",
    "\n",
    "print(adata)"
   ],
   "metadata": {
    "collapsed": false,
    "pycharm": {
     "name": "#%%\n"
    }
   }
  },
  {
   "cell_type": "code",
   "execution_count": null,
   "outputs": [],
   "source": [
    "#print(adata.isnull().sum())\n",
    "#print(adata.isnull().sum().sum())\n",
    "adata = adata.groupby(['Cell_Index','Gene'], as_index=False)['RSEC_Adjusted_Molecules'].sum()\n",
    "#adata.sum(axis = 0, skipna = True)"
   ],
   "metadata": {
    "collapsed": false,
    "pycharm": {
     "name": "#%%\n",
     "is_executing": true
    }
   }
  },
  {
   "cell_type": "code",
   "execution_count": null,
   "outputs": [],
   "source": [
    "# Quality control\n"
   ],
   "metadata": {
    "collapsed": false,
    "pycharm": {
     "name": "#%%\n"
    }
   }
  }
 ],
 "metadata": {
  "kernelspec": {
   "name": "pycharm-cc38f790",
   "language": "python",
   "display_name": "PyCharm (scRNA-Data)"
  },
  "language_info": {
   "codemirror_mode": {
    "name": "ipython",
    "version": 2
   },
   "file_extension": ".py",
   "mimetype": "text/x-python",
   "name": "python",
   "nbconvert_exporter": "python",
   "pygments_lexer": "ipython2",
   "version": "2.7.6"
  }
 },
 "nbformat": 4,
 "nbformat_minor": 0
}