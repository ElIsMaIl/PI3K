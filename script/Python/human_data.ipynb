{
  "nbformat": 4,
  "nbformat_minor": 0,
  "metadata": {
    "colab": {
      "name": "human_data.ipynb",
      "provenance": [],
      "collapsed_sections": []
    },
    "kernelspec": {
      "name": "python3",
      "display_name": "Python 3"
    }
  },
  "cells": [
    {
      "cell_type": "code",
      "metadata": {
        "id": "zSpDhfnyidbv"
      },
      "source": [
        "import pandas as pd"
      ],
      "execution_count": 1,
      "outputs": []
    },
    {
      "cell_type": "markdown",
      "metadata": {
        "id": "FEE2qbyw5fOf"
      },
      "source": [
        "### untreated expression data"
      ]
    },
    {
      "cell_type": "code",
      "metadata": {
        "id": "pqLcuZvZhL5r",
        "colab": {
          "base_uri": "https://localhost:8080/"
        },
        "outputId": "bb72be11-0427-4525-c72b-63fdac707322"
      },
      "source": [
        "df = pd.read_csv (r'1820_Sample_Tag_Metrics.csv')\n",
        "print (df)\n",
        "\n",
        "df.sum(axis = 0, skipna = True)"
      ],
      "execution_count": null,
      "outputs": [
        {
          "output_type": "stream",
          "text": [
            "        Sample_Tag  ... Mean_Reads_per_Called_Cell\n",
            "0         All_Tags  ...                     175.82\n",
            "1   SampleTag01_hs  ...                     264.04\n",
            "2   SampleTag02_hs  ...                       0.00\n",
            "3   SampleTag03_hs  ...                       0.00\n",
            "4   SampleTag04_hs  ...                       0.00\n",
            "5   SampleTag05_hs  ...                       0.00\n",
            "6   SampleTag06_hs  ...                       0.00\n",
            "7   SampleTag07_hs  ...                       0.00\n",
            "8   SampleTag08_hs  ...                       0.00\n",
            "9   SampleTag09_hs  ...                       0.00\n",
            "10  SampleTag10_hs  ...                       0.00\n",
            "11  SampleTag11_hs  ...                       0.00\n",
            "12  SampleTag12_hs  ...                       0.00\n",
            "13       Multiplet  ...                       0.00\n",
            "14    Undetermined  ...                       0.00\n",
            "\n",
            "[15 rows x 8 columns]\n"
          ],
          "name": "stdout"
        },
        {
          "output_type": "execute_result",
          "data": {
            "text/plain": [
              "Sample_Tag                      All_TagsSampleTag01_hsSampleTag02_hsSampleTag0...\n",
              "Raw_Reads                                                                13231732\n",
              "Pct_of_Raw_Reads                                                           199.99\n",
              "Cells_Called                                                                28800\n",
              "Pct_of_Putative_Cells_Called                                                  200\n",
              "Raw_Reads_in_Called_Cells                                                 5063666\n",
              "Mean_Reads_per_Called_Cell                                                 439.86\n",
              "dtype: object"
            ]
          },
          "metadata": {
            "tags": []
          },
          "execution_count": 2
        }
      ]
    },
    {
      "cell_type": "code",
      "metadata": {
        "id": "rQamZOJkiXl0",
        "colab": {
          "base_uri": "https://localhost:8080/"
        },
        "outputId": "8cd2b0da-37c9-4028-a4af-b66eed74fe4a"
      },
      "source": [
        "df_2 = pd.read_csv (r'1820_UMI_Adjusted_Stats.csv')\n",
        "print (df_2)\n",
        "\n",
        "df_2.sum(axis = 0, skipna = True)"
      ],
      "execution_count": null,
      "outputs": [
        {
          "output_type": "stream",
          "text": [
            "           Gene  ... RSEC_Adjusted_Seq_Depth_without_Singletons\n",
            "0          A1BG  ...                                       5.33\n",
            "1      A1BG-AS1  ...                                       7.78\n",
            "2          A1CF  ...                                       7.15\n",
            "3           A2M  ...                                       7.48\n",
            "4       A2M-AS1  ...                                       8.94\n",
            "...         ...  ...                                        ...\n",
            "32522      ZXDC  ...                                       9.00\n",
            "32523    ZYG11A  ...                                       4.40\n",
            "32524    ZYG11B  ...                                       7.11\n",
            "32525       ZYX  ...                                      11.40\n",
            "32526     ZZEF1  ...                                      10.09\n",
            "\n",
            "[32527 rows x 8 columns]\n"
          ],
          "name": "stdout"
        },
        {
          "output_type": "execute_result",
          "data": {
            "text/plain": [
              "Gene                                          A1BGA1BG-AS1A1CFA2MA2M-AS1A2ML1A2ML1-AS1A3GALT...\n",
              "Status                                        passpasspasspasspasspasslow_depthpasspasslow_d...\n",
              "Raw_Reads                                                                             131322139\n",
              "Raw_Molecules                                                                          28184904\n",
              "Raw_Seq_Depth                                                                           92671.4\n",
              "RSEC_Adjusted_Molecules                                                                25788589\n",
              "RSEC_Adjusted_Seq_Depth                                                                 97883.8\n",
              "RSEC_Adjusted_Seq_Depth_without_Singletons                                               213640\n",
              "dtype: object"
            ]
          },
          "metadata": {
            "tags": []
          },
          "execution_count": 3
        }
      ]
    },
    {
      "cell_type": "code",
      "metadata": {
        "id": "kO-gecE3lhgk",
        "colab": {
          "base_uri": "https://localhost:8080/"
        },
        "outputId": "3402e443-b24f-4dad-c447-4d0abb85a5e2"
      },
      "source": [
        "df_3 = pd.read_csv(\"Combined_1820_Expression_Data.st\", sep=\"\\t\")\n",
        "print(df_3)\n",
        "\n",
        "#df_3.sum(axis = 0, skipna = True)"
      ],
      "execution_count": 9,
      "outputs": [
        {
          "output_type": "stream",
          "text": [
            "         Cell_Index    Gene  RSEC_Reads  Raw_Molecules  RSEC_Adjusted_Molecules\n",
            "0            773200  A4GALT         1.0            1.0                      1.0\n",
            "1            773200    AAAS        19.0            2.0                      2.0\n",
            "2            773200   AAGAB        42.0            4.0                      3.0\n",
            "3            773200    AAMP       101.0           10.0                      8.0\n",
            "4            773200    AAR2        20.0            2.0                      1.0\n",
            "...             ...     ...         ...            ...                      ...\n",
            "4189315      693435    URI1         1.0            1.0                      1.0\n",
            "4189316      693435    USF3         9.0            2.0                      1.0\n",
            "4189317      693435   USP13        10.0            1.0                      1.0\n",
            "4189318      693435   USP42         1.0            1.0                      1.0\n",
            "4189319       69343     NaN         NaN            NaN                      NaN\n",
            "\n",
            "[4189320 rows x 5 columns]\n"
          ],
          "name": "stdout"
        }
      ]
    },
    {
      "cell_type": "code",
      "metadata": {
        "colab": {
          "base_uri": "https://localhost:8080/"
        },
        "id": "BSqmZ5uQCxTR",
        "outputId": "ae46ad1e-c158-4165-8783-da1398b25006"
      },
      "source": [
        "print(df_3.describe())"
      ],
      "execution_count": 10,
      "outputs": [
        {
          "output_type": "stream",
          "text": [
            "         Cell_Index    RSEC_Reads  Raw_Molecules  RSEC_Adjusted_Molecules\n",
            "count  4.189320e+06  4.189319e+06   4.189319e+06             4.189319e+06\n",
            "mean   4.309655e+05  1.817312e+01   3.434108e+00             3.070054e+00\n",
            "std    2.588952e+05  1.198241e+02   1.963522e+01             1.546710e+01\n",
            "min    2.430000e+02  1.000000e+00   1.000000e+00             1.000000e+00\n",
            "25%    2.089620e+05  1.000000e+00   1.000000e+00             1.000000e+00\n",
            "50%    4.242480e+05  3.000000e+00   1.000000e+00             1.000000e+00\n",
            "75%    6.618190e+05  1.400000e+01   2.000000e+00             2.000000e+00\n",
            "max    8.845270e+05  2.446300e+04   2.657000e+03             1.575000e+03\n"
          ],
          "name": "stdout"
        }
      ]
    },
    {
      "cell_type": "code",
      "metadata": {
        "colab": {
          "base_uri": "https://localhost:8080/"
        },
        "id": "UKlJW7wwDKvN",
        "outputId": "09d6ac93-3bcf-48cc-918c-13a613762b3b"
      },
      "source": [
        "print(df_3[\"RSEC_Reads\"].sum())"
      ],
      "execution_count": 11,
      "outputs": [
        {
          "output_type": "stream",
          "text": [
            "76132981.0\n"
          ],
          "name": "stdout"
        }
      ]
    },
    {
      "cell_type": "code",
      "metadata": {
        "colab": {
          "base_uri": "https://localhost:8080/"
        },
        "id": "wZfsgT4N3wU_",
        "outputId": "99d23263-9ab4-4f3a-f0b1-363d637b3ab1"
      },
      "source": [
        "print(df_3[\"Raw_Molecules\"].sum())"
      ],
      "execution_count": 12,
      "outputs": [
        {
          "output_type": "stream",
          "text": [
            "14386575.0\n"
          ],
          "name": "stdout"
        }
      ]
    },
    {
      "cell_type": "code",
      "metadata": {
        "colab": {
          "base_uri": "https://localhost:8080/"
        },
        "id": "r_J3HWalQjP1",
        "outputId": "21bfddb9-dbb0-4fd2-9c6b-399a1ddf0445"
      },
      "source": [
        "print(df_3[\"RSEC_Adjusted_Molecules\"].sum())"
      ],
      "execution_count": 13,
      "outputs": [
        {
          "output_type": "stream",
          "text": [
            "12861436.0\n"
          ],
          "name": "stdout"
        }
      ]
    },
    {
      "cell_type": "markdown",
      "metadata": {
        "id": "sEqZjtCO5oUl"
      },
      "source": [
        "### alpelisip"
      ]
    },
    {
      "cell_type": "code",
      "metadata": {
        "colab": {
          "base_uri": "https://localhost:8080/"
        },
        "id": "yTYB44fw--jD",
        "outputId": "dc78c37e-8eee-4efc-ed64-5558bd4ebc80"
      },
      "source": [
        "df_4 = pd.read_csv (r'1822_UMI_Adjusted_Stats.csv')\n",
        "print (df_4)\n",
        "df_4.sum(axis = 0, skipna = True)"
      ],
      "execution_count": 18,
      "outputs": [
        {
          "output_type": "stream",
          "text": [
            "               Gene  ... RSEC_Adjusted_Seq_Depth_without_Singletons\n",
            "0              A1BG  ...                                       3.30\n",
            "1          A1BG-AS1  ...                                       7.46\n",
            "2              A1CF  ...                                       6.39\n",
            "3               A2M  ...                                       8.39\n",
            "4           A2M-AS1  ...                                       5.75\n",
            "...             ...  ...                                        ...\n",
            "32669        ZYG11A  ...                                       5.27\n",
            "32670        ZYG11B  ...                                       7.05\n",
            "32671           ZYX  ...                                       9.99\n",
            "32672         ZZEF1  ...                                       9.27\n",
            "32673  hsa-mir-1253  ...                                       0.00\n",
            "\n",
            "[32674 rows x 8 columns]\n"
          ],
          "name": "stdout"
        },
        {
          "output_type": "execute_result",
          "data": {
            "text/plain": [
              "Gene                                          A1BGA1BG-AS1A1CFA2MA2M-AS1A2ML1A2ML1-AS1A2ML1-...\n",
              "Status                                        low_depthpasspasspasspasspasslow_depthlow_dept...\n",
              "Raw_Reads                                                                             178652764\n",
              "Raw_Molecules                                                                          40167137\n",
              "Raw_Seq_Depth                                                                           88049.1\n",
              "RSEC_Adjusted_Molecules                                                                36682117\n",
              "RSEC_Adjusted_Seq_Depth                                                                 92841.9\n",
              "RSEC_Adjusted_Seq_Depth_without_Singletons                                               190713\n",
              "dtype: object"
            ]
          },
          "metadata": {
            "tags": []
          },
          "execution_count": 18
        }
      ]
    },
    {
      "cell_type": "code",
      "metadata": {
        "colab": {
          "base_uri": "https://localhost:8080/"
        },
        "id": "x7w964GoFeyT",
        "outputId": "332dfe2c-815e-4790-847f-d9f2b5176c49"
      },
      "source": [
        "df_5 = pd.read_csv(\"1822_Expression_Data.st\", sep=\"\\t\")\n",
        "print(df_5)"
      ],
      "execution_count": 5,
      "outputs": [
        {
          "output_type": "stream",
          "text": [
            "          Cell_Index    Gene  ...  Raw_Molecules  RSEC_Adjusted_Molecules\n",
            "0             484876  A4GALT  ...            2.0                      2.0\n",
            "1             484876    AAAS  ...            1.0                      1.0\n",
            "2             484876    AACS  ...            1.0                      1.0\n",
            "3             484876   AAGAB  ...            6.0                      5.0\n",
            "4             484876    AAK1  ...            3.0                      2.0\n",
            "...              ...     ...  ...            ...                      ...\n",
            "12862617      298422   CALM3  ...            1.0                      1.0\n",
            "12862618      298422   CANT1  ...            1.0                      1.0\n",
            "12862619      298422  CARD10  ...            1.0                      1.0\n",
            "12862620      298422  CCDC22  ...            1.0                      1.0\n",
            "12862621      298422   CCDC8  ...            NaN                      NaN\n",
            "\n",
            "[12862622 rows x 5 columns]\n"
          ],
          "name": "stdout"
        }
      ]
    },
    {
      "cell_type": "code",
      "metadata": {
        "colab": {
          "base_uri": "https://localhost:8080/"
        },
        "id": "k9amPXwWP5Kw",
        "outputId": "562375dc-580c-45d3-ca28-83cf0529f19e"
      },
      "source": [
        "print(df_5.describe())"
      ],
      "execution_count": 6,
      "outputs": [
        {
          "output_type": "stream",
          "text": [
            "         Cell_Index    RSEC_Reads  Raw_Molecules  RSEC_Adjusted_Molecules\n",
            "count  1.286262e+07  1.286262e+07   1.286262e+07             1.286262e+07\n",
            "mean   4.427795e+05  1.211066e+01   2.626669e+00             2.384483e+00\n",
            "std    2.543325e+05  9.195998e+01   1.439973e+01             1.132803e+01\n",
            "min    3.700000e+01  1.000000e+00   1.000000e+00             1.000000e+00\n",
            "25%    2.194860e+05  1.000000e+00   1.000000e+00             1.000000e+00\n",
            "50%    4.472420e+05  3.000000e+00   1.000000e+00             1.000000e+00\n",
            "75%    6.655260e+05  1.000000e+01   2.000000e+00             2.000000e+00\n",
            "max    8.846610e+05  2.774500e+04   3.321000e+03             1.888000e+03\n"
          ],
          "name": "stdout"
        }
      ]
    },
    {
      "cell_type": "code",
      "metadata": {
        "colab": {
          "base_uri": "https://localhost:8080/"
        },
        "id": "srWtvGubQYX9",
        "outputId": "c8aebc92-5ca8-4bd5-fe4e-bd3798b51622"
      },
      "source": [
        "print(df_5[\"RSEC_Reads\"].sum())"
      ],
      "execution_count": 7,
      "outputs": [
        {
          "output_type": "stream",
          "text": [
            "155774818.0\n"
          ],
          "name": "stdout"
        }
      ]
    },
    {
      "cell_type": "code",
      "metadata": {
        "colab": {
          "base_uri": "https://localhost:8080/"
        },
        "id": "Yui2La1hQb5b",
        "outputId": "ed51bad8-549c-4701-dba8-48120696556f"
      },
      "source": [
        "print(df_5[\"Raw_Molecules\"].sum())"
      ],
      "execution_count": 14,
      "outputs": [
        {
          "output_type": "stream",
          "text": [
            "33785846.0\n"
          ],
          "name": "stdout"
        }
      ]
    },
    {
      "cell_type": "code",
      "metadata": {
        "colab": {
          "base_uri": "https://localhost:8080/"
        },
        "id": "1fuUy5I5REpf",
        "outputId": "be267380-4b5c-4700-ba0b-93dac3617802"
      },
      "source": [
        "print(df_5[\"RSEC_Adjusted_Molecules\"].sum())"
      ],
      "execution_count": 15,
      "outputs": [
        {
          "output_type": "stream",
          "text": [
            "30670703.0\n"
          ],
          "name": "stdout"
        }
      ]
    }
  ]
}