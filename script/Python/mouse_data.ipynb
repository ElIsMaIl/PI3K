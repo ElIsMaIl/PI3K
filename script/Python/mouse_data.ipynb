{
  "nbformat": 4,
  "nbformat_minor": 0,
  "metadata": {
    "colab": {
      "name": "mouse_data.ipynb",
      "provenance": [],
      "toc_visible": true
    },
    "kernelspec": {
      "name": "python3",
      "display_name": "Python 3"
    }
  },
  "cells": [
    {
      "cell_type": "code",
      "metadata": {
        "id": "zSpDhfnyidbv"
      },
      "source": [
        "import pandas as pd"
      ],
      "execution_count": 4,
      "outputs": []
    },
    {
      "cell_type": "markdown",
      "metadata": {
        "id": "FEE2qbyw5fOf"
      },
      "source": [
        "### untreated expression data"
      ]
    },
    {
      "cell_type": "code",
      "metadata": {
        "id": "pqLcuZvZhL5r",
        "colab": {
          "base_uri": "https://localhost:8080/"
        },
        "outputId": "ab184750-5395-4b17-9cd7-fd87ed4bedfe"
      },
      "source": [
        "df = pd.read_csv (r'_1_1820_UMI_Adjusted_Stats.csv')\n",
        "print (df)\n",
        "\n",
        "df.sum(axis = 0, skipna = True)"
      ],
      "execution_count": 5,
      "outputs": [
        {
          "output_type": "stream",
          "text": [
            "                Gene  ... RSEC_Adjusted_Seq_Depth_without_Singletons\n",
            "0      0610005C13Rik  ...                                       3.50\n",
            "1      0610006L08Rik  ...                                       3.50\n",
            "2      0610009B22Rik  ...                                       9.25\n",
            "3      0610010F05Rik  ...                                      11.47\n",
            "4      0610010K14Rik  ...                                       6.00\n",
            "...              ...  ...                                        ...\n",
            "27854         mt-Nd3  ...                                      13.11\n",
            "27855         mt-Nd4  ...                                      10.79\n",
            "27856        mt-Nd4l  ...                                       7.88\n",
            "27857         mt-Nd5  ...                                       9.72\n",
            "27858         mt-Nd6  ...                                       7.80\n",
            "\n",
            "[27859 rows x 8 columns]\n"
          ],
          "name": "stdout"
        },
        {
          "output_type": "execute_result",
          "data": {
            "text/plain": [
              "Gene                                          0610005C13Rik0610006L08Rik0610009B22Rik0610010...\n",
              "Status                                        low_depthlow_depthpasspasspasspasspasslow_dept...\n",
              "Raw_Reads                                                                             341535878\n",
              "Raw_Molecules                                                                          63662980\n",
              "Raw_Seq_Depth                                                                            100134\n",
              "RSEC_Adjusted_Molecules                                                                56878942\n",
              "RSEC_Adjusted_Seq_Depth                                                                  107937\n",
              "RSEC_Adjusted_Seq_Depth_without_Singletons                                               196019\n",
              "dtype: object"
            ]
          },
          "metadata": {
            "tags": []
          },
          "execution_count": 5
        }
      ]
    },
    {
      "cell_type": "code",
      "metadata": {
        "id": "rQamZOJkiXl0",
        "colab": {
          "base_uri": "https://localhost:8080/"
        },
        "outputId": "eee90e06-df85-4c0b-bd69-de51e3412155"
      },
      "source": [
        "df_2 = pd.read_csv (r'_1_1820_Sample_Tag_Metrics.csv')\n",
        "print (df_2)\n",
        "\n",
        "df_2.sum(axis = 0, skipna = True)"
      ],
      "execution_count": 7,
      "outputs": [
        {
          "output_type": "stream",
          "text": [
            "        Sample_Tag  ... Mean_Reads_per_Called_Cell\n",
            "0         All_Tags  ...                     205.41\n",
            "1   SampleTag01_hs  ...                     300.48\n",
            "2   SampleTag02_hs  ...                       0.00\n",
            "3   SampleTag03_hs  ...                       0.00\n",
            "4   SampleTag04_hs  ...                       0.00\n",
            "5   SampleTag05_hs  ...                       0.00\n",
            "6   SampleTag06_hs  ...                       0.00\n",
            "7   SampleTag07_hs  ...                       0.00\n",
            "8   SampleTag08_hs  ...                       0.00\n",
            "9   SampleTag09_hs  ...                       0.00\n",
            "10  SampleTag10_hs  ...                       0.00\n",
            "11  SampleTag11_hs  ...                       0.00\n",
            "12  SampleTag12_hs  ...                       0.00\n",
            "13       Multiplet  ...                       0.00\n",
            "14    Undetermined  ...                       0.00\n",
            "\n",
            "[15 rows x 8 columns]\n"
          ],
          "name": "stdout"
        },
        {
          "output_type": "execute_result",
          "data": {
            "text/plain": [
              "Sample_Tag                      All_TagsSampleTag01_hsSampleTag02_hsSampleTag0...\n",
              "Raw_Reads                                                                13234112\n",
              "Pct_of_Raw_Reads                                                              200\n",
              "Cells_Called                                                                23534\n",
              "Pct_of_Putative_Cells_Called                                                  200\n",
              "Raw_Reads_in_Called_Cells                                                 4834052\n",
              "Mean_Reads_per_Called_Cell                                                 505.89\n",
              "dtype: object"
            ]
          },
          "metadata": {
            "tags": []
          },
          "execution_count": 7
        }
      ]
    },
    {
      "cell_type": "code",
      "metadata": {
        "id": "kO-gecE3lhgk",
        "colab": {
          "base_uri": "https://localhost:8080/"
        },
        "outputId": "c31f42ba-7dfe-46b7-b650-30dd558fb1a7"
      },
      "source": [
        "df_3 = pd.read_csv(\"_1_Combined_1820_Expression_Data.st\", sep=\"\\t\")\n",
        "print(df_3)\n",
        "\n",
        "#df_3.sum(axis = 0, skipna = True)"
      ],
      "execution_count": 17,
      "outputs": [
        {
          "output_type": "stream",
          "text": [
            "        Cell_Index           Gene  ...  Raw_Molecules  RSEC_Adjusted_Molecules\n",
            "0           603151  0610009B22Rik  ...              4                        4\n",
            "1           603151  0610010F05Rik  ...              5                        5\n",
            "2           603151  0610012G03Rik  ...             14                       11\n",
            "3           603151  0610030E20Rik  ...              3                        2\n",
            "4           603151  0610037L13Rik  ...              4                        4\n",
            "...            ...            ...  ...            ...                      ...\n",
            "781050      162338          Rusc2  ...              1                        1\n",
            "781051      162338         Ruvbl2  ...              3                        3\n",
            "781052      162338          Rwdd1  ...              1                        1\n",
            "781053      162338         Rwdd4a  ...              1                        1\n",
            "781054      162338           Rybp  ...              2                        2\n",
            "\n",
            "[781055 rows x 5 columns]\n"
          ],
          "name": "stdout"
        }
      ]
    },
    {
      "cell_type": "code",
      "metadata": {
        "colab": {
          "base_uri": "https://localhost:8080/"
        },
        "id": "BSqmZ5uQCxTR",
        "outputId": "e48a2354-5787-4d65-e1a9-f4db667554ec"
      },
      "source": [
        "print(df_3.describe())"
      ],
      "execution_count": 18,
      "outputs": [
        {
          "output_type": "stream",
          "text": [
            "          Cell_Index     RSEC_Reads  Raw_Molecules  RSEC_Adjusted_Molecules\n",
            "count  781055.000000  781055.000000  781055.000000            781055.000000\n",
            "mean   458967.814949      42.553115       7.170848                 6.188892\n",
            "std    264265.225130     288.829141      44.857824                29.427406\n",
            "min      1309.000000       1.000000       1.000000                 1.000000\n",
            "25%    224016.000000       2.000000       1.000000                 1.000000\n",
            "50%    491098.000000      12.000000       2.000000                 2.000000\n",
            "75%    694121.000000      30.000000       5.000000                 4.000000\n",
            "max    884458.000000   46209.000000    6898.000000              2902.000000\n"
          ],
          "name": "stdout"
        }
      ]
    },
    {
      "cell_type": "code",
      "metadata": {
        "colab": {
          "base_uri": "https://localhost:8080/"
        },
        "id": "UKlJW7wwDKvN",
        "outputId": "dd2b27db-be4b-4587-e055-79e775746cf6"
      },
      "source": [
        "print(df_3[\"RSEC_Reads\"].sum())"
      ],
      "execution_count": 19,
      "outputs": [
        {
          "output_type": "stream",
          "text": [
            "33236323\n"
          ],
          "name": "stdout"
        }
      ]
    },
    {
      "cell_type": "code",
      "metadata": {
        "colab": {
          "base_uri": "https://localhost:8080/"
        },
        "id": "wZfsgT4N3wU_",
        "outputId": "7cf2196b-8492-4f24-e1e4-80b925405061"
      },
      "source": [
        "print(df_3[\"Raw_Molecules\"].sum())"
      ],
      "execution_count": 20,
      "outputs": [
        {
          "output_type": "stream",
          "text": [
            "5600827\n"
          ],
          "name": "stdout"
        }
      ]
    },
    {
      "cell_type": "code",
      "metadata": {
        "colab": {
          "base_uri": "https://localhost:8080/"
        },
        "id": "r_J3HWalQjP1",
        "outputId": "65f0beae-74a6-47e2-a0e3-63f9ef209bb8"
      },
      "source": [
        "print(df_3[\"RSEC_Adjusted_Molecules\"].sum())"
      ],
      "execution_count": 21,
      "outputs": [
        {
          "output_type": "stream",
          "text": [
            "4833865\n"
          ],
          "name": "stdout"
        }
      ]
    },
    {
      "cell_type": "markdown",
      "metadata": {
        "id": "sEqZjtCO5oUl"
      },
      "source": [
        "### alpelisip"
      ]
    },
    {
      "cell_type": "code",
      "metadata": {
        "colab": {
          "base_uri": "https://localhost:8080/"
        },
        "id": "yTYB44fw--jD",
        "outputId": "c0e06ebc-cda1-4ba9-c6ea-276c15767297"
      },
      "source": [
        "df_4 = pd.read_csv (r'_1_1822_UMI_Adjusted_Stats.csv')\n",
        "print (df_4)\n",
        "df_4.sum(axis = 0, skipna = True)"
      ],
      "execution_count": 9,
      "outputs": [
        {
          "output_type": "stream",
          "text": [
            "                Gene  ... RSEC_Adjusted_Seq_Depth_without_Singletons\n",
            "0      0610005C13Rik  ...                                       3.00\n",
            "1      0610006L08Rik  ...                                       2.75\n",
            "2      0610009B22Rik  ...                                       8.93\n",
            "3      0610010F05Rik  ...                                       9.57\n",
            "4      0610010K14Rik  ...                                       8.00\n",
            "...              ...  ...                                        ...\n",
            "28400         mt-Nd3  ...                                      11.01\n",
            "28401         mt-Nd4  ...                                       8.83\n",
            "28402        mt-Nd4l  ...                                       6.93\n",
            "28403         mt-Nd5  ...                                       8.13\n",
            "28404         mt-Nd6  ...                                       6.70\n",
            "\n",
            "[28405 rows x 8 columns]\n"
          ],
          "name": "stdout"
        },
        {
          "output_type": "execute_result",
          "data": {
            "text/plain": [
              "Gene                                          0610005C13Rik0610006L08Rik0610009B22Rik0610010...\n",
              "Status                                        low_depthlow_depthpasspasspasspasspasspasspass...\n",
              "Raw_Reads                                                                             429446711\n",
              "Raw_Molecules                                                                          85924680\n",
              "Raw_Seq_Depth                                                                           95789.3\n",
              "RSEC_Adjusted_Molecules                                                                77205086\n",
              "RSEC_Adjusted_Seq_Depth                                                                  103037\n",
              "RSEC_Adjusted_Seq_Depth_without_Singletons                                               176644\n",
              "dtype: object"
            ]
          },
          "metadata": {
            "tags": []
          },
          "execution_count": 9
        }
      ]
    },
    {
      "cell_type": "code",
      "metadata": {
        "colab": {
          "base_uri": "https://localhost:8080/"
        },
        "id": "x7w964GoFeyT",
        "outputId": "325184d9-d32d-4019-8bbf-f5aec89d95c1"
      },
      "source": [
        "df_5 = pd.read_csv(\"_1_1822_Expression_Data.st\", sep=\"\\t\")\n",
        "print(df_5)"
      ],
      "execution_count": 11,
      "outputs": [
        {
          "output_type": "stream",
          "text": [
            "          Cell_Index           Gene  ...  Raw_Molecules  RSEC_Adjusted_Molecules\n",
            "0             707657  0610010F05Rik  ...              2                        2\n",
            "1             707657  0610012G03Rik  ...              5                        4\n",
            "2             707657  0610038B21Rik  ...              1                        1\n",
            "3             707657  0610040B10Rik  ...              1                        1\n",
            "4             707657  1110004F10Rik  ...              7                        7\n",
            "...              ...            ...  ...            ...                      ...\n",
            "21707820      615552        mt-Atp6  ...              1                        1\n",
            "21707821      615552         mt-Co1  ...              1                        1\n",
            "21707822      615552         mt-Co3  ...              1                        1\n",
            "21707823      615552        mt-Cytb  ...              2                        2\n",
            "21707824      615552         mt-Nd4  ...              1                        1\n",
            "\n",
            "[21707825 rows x 5 columns]\n"
          ],
          "name": "stdout"
        }
      ]
    },
    {
      "cell_type": "code",
      "metadata": {
        "colab": {
          "base_uri": "https://localhost:8080/"
        },
        "id": "k9amPXwWP5Kw",
        "outputId": "bd16d192-e354-4c05-b605-0647bde28d97"
      },
      "source": [
        "print(df_5.describe())"
      ],
      "execution_count": 12,
      "outputs": [
        {
          "output_type": "stream",
          "text": [
            "         Cell_Index    RSEC_Reads  Raw_Molecules  RSEC_Adjusted_Molecules\n",
            "count  2.170782e+07  2.170782e+07   2.170782e+07             2.170782e+07\n",
            "mean   4.429000e+05  1.788195e+01   3.472457e+00             3.101981e+00\n",
            "std    2.542099e+05  1.038659e+02   1.800127e+01             1.361485e+01\n",
            "min    3.700000e+01  1.000000e+00   1.000000e+00             1.000000e+00\n",
            "25%    2.204980e+05  1.000000e+00   1.000000e+00             1.000000e+00\n",
            "50%    4.449750e+05  6.000000e+00   1.000000e+00             1.000000e+00\n",
            "75%    6.646550e+05  1.500000e+01   3.000000e+00             2.000000e+00\n",
            "max    8.847360e+05  3.163800e+04   5.440000e+03             2.744000e+03\n"
          ],
          "name": "stdout"
        }
      ]
    },
    {
      "cell_type": "code",
      "metadata": {
        "colab": {
          "base_uri": "https://localhost:8080/"
        },
        "id": "srWtvGubQYX9",
        "outputId": "921e2c30-50c6-4f71-927d-4906ab8df038"
      },
      "source": [
        "print(df_5[\"RSEC_Reads\"].sum())"
      ],
      "execution_count": 13,
      "outputs": [
        {
          "output_type": "stream",
          "text": [
            "388178280\n"
          ],
          "name": "stdout"
        }
      ]
    },
    {
      "cell_type": "code",
      "metadata": {
        "colab": {
          "base_uri": "https://localhost:8080/"
        },
        "id": "Yui2La1hQb5b",
        "outputId": "90b1eca3-fe05-4e3e-dc14-8802cc6d5426"
      },
      "source": [
        "print(df_5[\"Raw_Molecules\"].sum())"
      ],
      "execution_count": 14,
      "outputs": [
        {
          "output_type": "stream",
          "text": [
            "75379486\n"
          ],
          "name": "stdout"
        }
      ]
    },
    {
      "cell_type": "code",
      "metadata": {
        "colab": {
          "base_uri": "https://localhost:8080/"
        },
        "id": "1fuUy5I5REpf",
        "outputId": "0e2d80ed-0498-4a24-ca8d-66c885bebef5"
      },
      "source": [
        "print(df_5[\"RSEC_Adjusted_Molecules\"].sum())"
      ],
      "execution_count": 15,
      "outputs": [
        {
          "output_type": "stream",
          "text": [
            "67337266\n"
          ],
          "name": "stdout"
        }
      ]
    }
  ]
}