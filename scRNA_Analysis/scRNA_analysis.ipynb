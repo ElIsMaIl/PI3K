{
 "cells": [
  {
   "cell_type": "code",
   "execution_count": 1,
   "metadata": {},
   "outputs": [
    {
     "name": "stderr",
     "output_type": "stream",
     "text": [
      "/home/elismail/.local/lib/python3.6/site-packages/numba/core/errors.py:154: UserWarning: Insufficiently recent colorama version found. Numba requires colorama >= 0.3.9\n",
      "  warnings.warn(msg)\n"
     ]
    }
   ],
   "source": [
    "import scanpy as sc\n",
    "import scrublet as scr\n",
    "import numpy as np\n",
    "import scipy as sp\n",
    "import pandas as pd\n",
    "import matplotlib.pyplot as plt\n",
    "from matplotlib import rcParams\n",
    "from matplotlib import colors\n",
    "import seaborn as sb\n",
    "from gprofiler import gprofiler\n",
    "\n",
    "import rpy2.rinterface_lib.callbacks\n",
    "import logging\n",
    "\n",
    "from rpy2.robjects import pandas2ri\n",
    "import anndata2ri"
   ]
  },
  {
   "cell_type": "code",
   "execution_count": 2,
   "metadata": {
    "pycharm": {
     "name": "#%%\n"
    }
   },
   "outputs": [],
   "source": [
    "# Ignore R warning messages\n",
    "#Note: this can be commented out to get more verbose R output\n",
    "#rpy2.rinterface_lib.callbacks.logger.setLevel(logging.ERROR)\n",
    "\n",
    "# Automatically convert rpy2 outputs to pandas dataframes\n",
    "pandas2ri.activate()\n",
    "anndata2ri.activate()\n",
    "%load_ext rpy2.ipython\n",
    "\n",
    "#plt.rcParams['figure.figsize']=(8,8) #rescale figures\n",
    "#sc.settings.verbosity = 3\n",
    "#sc.set_figure_params(dpi=200, dpi_save=300)\n",
    "#sc.logging.print_versions()"
   ]
  },
  {
   "cell_type": "code",
   "execution_count": 3,
   "metadata": {
    "pycharm": {
     "name": "#%%\n"
    }
   },
   "outputs": [
    {
     "name": "stderr",
     "output_type": "stream",
     "text": [
      "R[write to console]: Lade nötiges Paket: SingleCellExperiment\n",
      "\n",
      "R[write to console]: Lade nötiges Paket: SummarizedExperiment\n",
      "\n",
      "R[write to console]: Lade nötiges Paket: MatrixGenerics\n",
      "\n",
      "R[write to console]: Lade nötiges Paket: matrixStats\n",
      "\n",
      "R[write to console]: \n",
      "Attache Paket: ‘MatrixGenerics’\n",
      "\n",
      "\n",
      "R[write to console]: The following objects are masked from ‘package:matrixStats’:\n",
      "\n",
      "    colAlls, colAnyNAs, colAnys, colAvgsPerRowSet, colCollapse,\n",
      "    colCounts, colCummaxs, colCummins, colCumprods, colCumsums,\n",
      "    colDiffs, colIQRDiffs, colIQRs, colLogSumExps, colMadDiffs,\n",
      "    colMads, colMaxs, colMeans2, colMedians, colMins, colOrderStats,\n",
      "    colProds, colQuantiles, colRanges, colRanks, colSdDiffs, colSds,\n",
      "    colSums2, colTabulates, colVarDiffs, colVars, colWeightedMads,\n",
      "    colWeightedMeans, colWeightedMedians, colWeightedSds,\n",
      "    colWeightedVars, rowAlls, rowAnyNAs, rowAnys, rowAvgsPerColSet,\n",
      "    rowCollapse, rowCounts, rowCummaxs, rowCummins, rowCumprods,\n",
      "    rowCumsums, rowDiffs, rowIQRDiffs, rowIQRs, rowLogSumExps,\n",
      "    rowMadDiffs, rowMads, rowMaxs, rowMeans2, rowMedians, rowMins,\n",
      "    rowOrderStats, rowProds, rowQuantiles, rowRanges, rowRanks,\n",
      "    rowSdDiffs, rowSds, rowSums2, rowTabulates, rowVarDiffs, rowVars,\n",
      "    rowWeightedMads, rowWeightedMeans, rowWeightedMedians,\n",
      "    rowWeightedSds, rowWeightedVars\n",
      "\n",
      "\n",
      "R[write to console]: Lade nötiges Paket: GenomicRanges\n",
      "\n",
      "R[write to console]: Lade nötiges Paket: stats4\n",
      "\n",
      "R[write to console]: Lade nötiges Paket: BiocGenerics\n",
      "\n",
      "R[write to console]: Lade nötiges Paket: parallel\n",
      "\n",
      "R[write to console]: \n",
      "Attache Paket: ‘BiocGenerics’\n",
      "\n",
      "\n",
      "R[write to console]: The following objects are masked from ‘package:parallel’:\n",
      "\n",
      "    clusterApply, clusterApplyLB, clusterCall, clusterEvalQ,\n",
      "    clusterExport, clusterMap, parApply, parCapply, parLapply,\n",
      "    parLapplyLB, parRapply, parSapply, parSapplyLB\n",
      "\n",
      "\n",
      "R[write to console]: The following objects are masked from ‘package:stats’:\n",
      "\n",
      "    IQR, mad, sd, var, xtabs\n",
      "\n",
      "\n",
      "R[write to console]: The following objects are masked from ‘package:base’:\n",
      "\n",
      "    anyDuplicated, append, as.data.frame, basename, cbind, colnames,\n",
      "    dirname, do.call, duplicated, eval, evalq, Filter, Find, get, grep,\n",
      "    grepl, intersect, is.unsorted, lapply, Map, mapply, match, mget,\n",
      "    order, paste, pmax, pmax.int, pmin, pmin.int, Position, rank,\n",
      "    rbind, Reduce, rownames, sapply, setdiff, sort, table, tapply,\n",
      "    union, unique, unsplit, which.max, which.min\n",
      "\n",
      "\n",
      "R[write to console]: Lade nötiges Paket: S4Vectors\n",
      "\n",
      "R[write to console]: \n",
      "Attache Paket: ‘S4Vectors’\n",
      "\n",
      "\n",
      "R[write to console]: The following object is masked from ‘package:base’:\n",
      "\n",
      "    expand.grid\n",
      "\n",
      "\n",
      "R[write to console]: Lade nötiges Paket: IRanges\n",
      "\n",
      "R[write to console]: Lade nötiges Paket: GenomeInfoDb\n",
      "\n",
      "R[write to console]: Lade nötiges Paket: Biobase\n",
      "\n",
      "R[write to console]: Welcome to Bioconductor\n",
      "\n",
      "    Vignettes contain introductory material; view with\n",
      "    'browseVignettes()'. To cite Bioconductor, see\n",
      "    'citation(\"Biobase\")', and for packages 'citation(\"pkgname\")'.\n",
      "\n",
      "\n",
      "R[write to console]: \n",
      "Attache Paket: ‘Biobase’\n",
      "\n",
      "\n",
      "R[write to console]: The following object is masked from ‘package:MatrixGenerics’:\n",
      "\n",
      "    rowMedians\n",
      "\n",
      "\n",
      "R[write to console]: The following objects are masked from ‘package:matrixStats’:\n",
      "\n",
      "    anyMissing, rowMedians\n",
      "\n",
      "\n",
      "R[write to console]: \n",
      "Attache Paket: ‘Matrix’\n",
      "\n",
      "\n",
      "R[write to console]: The following object is masked from ‘package:S4Vectors’:\n",
      "\n",
      "    expand\n",
      "\n",
      "\n",
      "R[write to console]: \n",
      "Attache Paket: ‘dplyr’\n",
      "\n",
      "\n",
      "R[write to console]: The following object is masked from ‘package:Biobase’:\n",
      "\n",
      "    combine\n",
      "\n",
      "\n",
      "R[write to console]: The following objects are masked from ‘package:GenomicRanges’:\n",
      "\n",
      "    intersect, setdiff, union\n",
      "\n",
      "\n",
      "R[write to console]: The following object is masked from ‘package:GenomeInfoDb’:\n",
      "\n",
      "    intersect\n",
      "\n",
      "\n",
      "R[write to console]: The following objects are masked from ‘package:IRanges’:\n",
      "\n",
      "    collapse, desc, intersect, setdiff, slice, union\n",
      "\n",
      "\n",
      "R[write to console]: The following objects are masked from ‘package:S4Vectors’:\n",
      "\n",
      "    first, intersect, rename, setdiff, setequal, union\n",
      "\n",
      "\n",
      "R[write to console]: The following objects are masked from ‘package:BiocGenerics’:\n",
      "\n",
      "    combine, intersect, setdiff, union\n",
      "\n",
      "\n",
      "R[write to console]: The following object is masked from ‘package:matrixStats’:\n",
      "\n",
      "    count\n",
      "\n",
      "\n",
      "R[write to console]: The following objects are masked from ‘package:stats’:\n",
      "\n",
      "    filter, lag\n",
      "\n",
      "\n",
      "R[write to console]: The following objects are masked from ‘package:base’:\n",
      "\n",
      "    intersect, setdiff, setequal, union\n",
      "\n",
      "\n",
      "R[write to console]: \n",
      "Attache Paket: ‘tidyr’\n",
      "\n",
      "\n",
      "R[write to console]: The following objects are masked from ‘package:Matrix’:\n",
      "\n",
      "    expand, pack, unpack\n",
      "\n",
      "\n",
      "R[write to console]: The following object is masked from ‘package:S4Vectors’:\n",
      "\n",
      "    expand\n",
      "\n",
      "\n",
      "R[write to console]: Lade nötiges Paket: princurve\n",
      "\n",
      "R[write to console]: Lade nötiges Paket: ggplot2\n",
      "\n",
      "R[write to console]: Lade nötiges Paket: VGAM\n",
      "\n",
      "R[write to console]: Lade nötiges Paket: splines\n",
      "\n",
      "R[write to console]: \n",
      "Attache Paket: ‘VGAM’\n",
      "\n",
      "\n",
      "R[write to console]: The following object is masked from ‘package:tidyr’:\n",
      "\n",
      "    fill\n",
      "\n",
      "\n",
      "R[write to console]: Lade nötiges Paket: DDRTree\n",
      "\n",
      "R[write to console]: Lade nötiges Paket: irlba\n",
      "\n",
      "R[write to console]: Lade nötiges Paket: foreach\n",
      "\n",
      "R[write to console]: Loaded gam 1.20\n",
      "\n",
      "\n",
      "R[write to console]: \n",
      "Attache Paket: ‘gam’\n",
      "\n",
      "\n",
      "R[write to console]: The following object is masked from ‘package:VGAM’:\n",
      "\n",
      "    s\n",
      "\n",
      "\n",
      "R[write to console]: ------------------------------------------------------------------------------\n",
      "\n",
      "R[write to console]: You have loaded plyr after dplyr - this is likely to cause problems.\n",
      "If you need functions from both plyr and dplyr, please load plyr first, then dplyr:\n",
      "library(plyr); library(dplyr)\n",
      "\n",
      "R[write to console]: ------------------------------------------------------------------------------\n",
      "\n",
      "R[write to console]: \n",
      "Attache Paket: ‘plyr’\n",
      "\n",
      "\n",
      "R[write to console]: The following objects are masked from ‘package:dplyr’:\n",
      "\n",
      "    arrange, count, desc, failwith, id, mutate, rename, summarise,\n",
      "    summarize\n",
      "\n",
      "\n",
      "R[write to console]: The following object is masked from ‘package:IRanges’:\n",
      "\n",
      "    desc\n",
      "\n",
      "\n",
      "R[write to console]: The following object is masked from ‘package:S4Vectors’:\n",
      "\n",
      "    rename\n",
      "\n",
      "\n",
      "R[write to console]: The following object is masked from ‘package:matrixStats’:\n",
      "\n",
      "    count\n",
      "\n",
      "\n"
     ]
    }
   ],
   "source": [
    "%%R\n",
    "\n",
    "library(scran)\n",
    "library(Matrix)\n",
    "library(dplyr)\n",
    "library(tidyr)\n",
    "library(RColorBrewer)\n",
    "library(slingshot)\n",
    "library(monocle)\n",
    "library(gam)\n",
    "library(clusterExperiment)\n",
    "library(ggplot2)\n",
    "library(plyr)\n",
    "library(MAST)\n"
   ]
  },
  {
   "cell_type": "code",
   "execution_count": 4,
   "metadata": {
    "pycharm": {
     "name": "#%%\n"
    }
   },
   "outputs": [],
   "source": [
    "# Set up data loading\n",
    "#Data files\n",
    "sample_strings = ['1820', '1822']\n",
    "file_base = '/home/elismail/Dokumente/scRNA-Data/scRNA_Tutorial/'\n",
    "exp_string = '_Expression_'\n",
    "data_file_end = 'Data.st'"
   ]
  },
  {
   "cell_type": "code",
   "execution_count": 5,
   "outputs": [],
   "source": [
    "#First data set load & annotation\n",
    "#Parse Filenames\n",
    "sample = sample_strings.pop(0)\n",
    "data_file = file_base+sample+exp_string+data_file_end\n",
    "\n",
    "#Load data\n",
    "adata_1820 = pd.read_csv(data_file, sep='\\t')"
   ],
   "metadata": {
    "collapsed": false,
    "pycharm": {
     "name": "#%%\n"
    }
   }
  },
  {
   "cell_type": "code",
   "execution_count": 6,
   "outputs": [],
   "source": [
    "adata_1820.drop(['RSEC_Reads', 'RSEC_Adjusted_Molecules'], axis=1, inplace=True)\n",
    "#print('Counts matrix shape: {} rows, {} columns'.format(adata_1820.shape[0], adata_1820.shape[1]))"
   ],
   "metadata": {
    "collapsed": false,
    "pycharm": {
     "name": "#%%\n"
    }
   }
  },
  {
   "cell_type": "code",
   "execution_count": 7,
   "outputs": [],
   "source": [
    "cells = adata_1820[\"Cell_Index\"].unique()\n",
    "genes = adata_1820[\"Gene\"].unique()"
   ],
   "metadata": {
    "collapsed": false,
    "pycharm": {
     "name": "#%%\n"
    }
   }
  },
  {
   "cell_type": "code",
   "execution_count": 8,
   "outputs": [],
   "source": [
    "cells_dict = {i: index for index, i in enumerate(cells)}\n",
    "genes_dict = {i: index for index, i in enumerate(genes)}\n",
    "dense_matrix = np.zeros(shape=(len(cells), len(genes)), dtype=np.int16())"
   ],
   "metadata": {
    "collapsed": false,
    "pycharm": {
     "name": "#%%\n"
    }
   }
  },
  {
   "cell_type": "code",
   "execution_count": 9,
   "outputs": [
    {
     "data": {
      "text/plain": "214516"
     },
     "execution_count": 9,
     "metadata": {},
     "output_type": "execute_result"
    }
   ],
   "source": [
    "size = int(adata_1820.shape[0]/50)\n",
    "size"
   ],
   "metadata": {
    "collapsed": false,
    "pycharm": {
     "name": "#%%\n"
    }
   }
  },
  {
   "cell_type": "code",
   "execution_count": 10,
   "outputs": [
    {
     "name": "stdout",
     "output_type": "stream",
     "text": [
      "##################################################"
     ]
    }
   ],
   "source": [
    "for index, (cell, gene, value) in enumerate(zip(adata_1820[\"Cell_Index\"].tolist(), adata_1820[\"Gene\"].tolist(), adata_1820[\"Raw_Molecules\"].tolist())):\n",
    "    if index % size ==0 and index != 0:\n",
    "        print(\"#\", end=\"\")\n",
    "    dense_matrix[cells_dict.get(cell, None), genes_dict.get(gene, None)] = value"
   ],
   "metadata": {
    "collapsed": false,
    "pycharm": {
     "name": "#%%\n"
    }
   }
  },
  {
   "cell_type": "code",
   "execution_count": 11,
   "outputs": [
    {
     "data": {
      "text/plain": "10725802"
     },
     "execution_count": 11,
     "metadata": {},
     "output_type": "execute_result"
    }
   ],
   "source": [
    "np.count_nonzero(dense_matrix)"
   ],
   "metadata": {
    "collapsed": false,
    "pycharm": {
     "name": "#%%\n"
    }
   }
  },
  {
   "cell_type": "code",
   "execution_count": 12,
   "outputs": [
    {
     "data": {
      "text/plain": "10725800"
     },
     "execution_count": 12,
     "metadata": {},
     "output_type": "execute_result"
    }
   ],
   "source": [
    "214516*50"
   ],
   "metadata": {
    "collapsed": false,
    "pycharm": {
     "name": "#%%\n"
    }
   }
  },
  {
   "cell_type": "code",
   "execution_count": 7,
   "metadata": {
    "pycharm": {
     "name": "#%%\n"
    }
   },
   "outputs": [],
   "source": [
    "#Loop to load the rest of data sets\n",
    "for i in range(len(sample_strings)):\n",
    "    #Parse Filenames\n",
    "    sample = sample_strings[i]\n",
    "    data_file = file_base+sample+exp_string+data_file_end\n",
    "\n",
    "    #Load data\n",
    "    adata_1822 = sc.read(data_file, sep='\\t', cache=True)"
   ]
  },
  {
   "cell_type": "code",
   "execution_count": 8,
   "outputs": [
    {
     "name": "stdout",
     "output_type": "stream",
     "text": [
      "Counts matrix shape: 12512 rows, 32675 columns\n"
     ]
    }
   ],
   "source": [
    "print('Counts matrix shape: {} rows, {} columns'.format(adata_1822.shape[0], adata_1822.shape[1]))\n"
   ],
   "metadata": {
    "collapsed": false,
    "pycharm": {
     "name": "#%%\n"
    }
   }
  }
 ],
 "metadata": {
  "kernelspec": {
   "display_name": "PyCharm (scRNA-Data)",
   "language": "python",
   "name": "pycharm-cc38f790"
  },
  "language_info": {
   "codemirror_mode": {
    "name": "ipython",
    "version": 3
   },
   "file_extension": ".py",
   "mimetype": "text/x-python",
   "name": "python",
   "nbconvert_exporter": "python",
   "pygments_lexer": "ipython3",
   "version": "3.6.9"
  }
 },
 "nbformat": 4,
 "nbformat_minor": 1
}